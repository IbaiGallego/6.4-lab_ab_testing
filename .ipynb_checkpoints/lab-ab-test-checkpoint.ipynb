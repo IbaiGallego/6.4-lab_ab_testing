{
 "cells": [
  {
   "cell_type": "markdown",
   "id": "angry-pearl",
   "metadata": {
    "toc": true
   },
   "source": [
    "<h1>Table of Contents<span class=\"tocSkip\"></span></h1>\n",
    "<div class=\"toc\"><ul class=\"toc-item\"><li><span><a href=\"#AB-Testing\" data-toc-modified-id=\"AB-Testing-1\"><span class=\"toc-item-num\">1&nbsp;&nbsp;</span>AB-Testing</a></span></li></ul></div>"
   ]
  },
  {
   "cell_type": "markdown",
   "id": "c92ba6e0",
   "metadata": {},
   "source": [
    "# AB-Testing\n",
    "\n",
    "![cats](images/cats.jpeg)\n",
    "\n",
    "\n",
    "Imaginad que somos los cientificos de datos de la empresa de videojuegos Tactile Entertainment. Los desarrolladores del juego Cookie Cats pretenden introducir un cambio en el juego para aumentar la retencion de los jugadores. En cierto nivel del juego los jugadores se encuentran una puerta que les obliga a esperar o a pagar la app. Actualmente la puerta se encuentra en nivel 30 y se pretende pasar al nivel 40, para comprobar la retencion a 1 y 7 dias. Antes de realizar el cambio definitivo en el juego se raliza un test AB.\n",
    "\n",
    "Los datos estan alojados en `data/cookie_cats.csv`. Nuestro grupo de control sera la version actual `gate_30` y el grupo de tratamiento sera la version `gate_40`. Debemos realizar el test para 1 dia de retencion `retention_1` y para 7 dias `retention_7`."
   ]
  },
  {
   "cell_type": "code",
   "execution_count": 1,
   "id": "ac3b2f52",
   "metadata": {},
   "outputs": [],
   "source": [
    "# librerias\n",
    "\n",
    "import pandas as pd\n",
    "import numpy as np\n",
    "\n",
    "from statsmodels.stats.proportion import proportions_ztest, proportion_confint\n",
    "from scipy.stats import norm, sem\n",
    "\n",
    "import pylab as plt"
   ]
  },
  {
   "cell_type": "code",
   "execution_count": 2,
   "id": "7fe515c2",
   "metadata": {},
   "outputs": [],
   "source": [
    "# datos\n",
    "data = pd.read_csv('data/cookie_cats.csv')"
   ]
  },
  {
   "cell_type": "code",
   "execution_count": 3,
   "id": "d7ffaec9",
   "metadata": {
    "scrolled": true
   },
   "outputs": [
    {
     "data": {
      "text/html": [
       "<div>\n",
       "<style scoped>\n",
       "    .dataframe tbody tr th:only-of-type {\n",
       "        vertical-align: middle;\n",
       "    }\n",
       "\n",
       "    .dataframe tbody tr th {\n",
       "        vertical-align: top;\n",
       "    }\n",
       "\n",
       "    .dataframe thead th {\n",
       "        text-align: right;\n",
       "    }\n",
       "</style>\n",
       "<table border=\"1\" class=\"dataframe\">\n",
       "  <thead>\n",
       "    <tr style=\"text-align: right;\">\n",
       "      <th></th>\n",
       "      <th>userid</th>\n",
       "      <th>version</th>\n",
       "      <th>sum_gamerounds</th>\n",
       "      <th>retention_1</th>\n",
       "      <th>retention_7</th>\n",
       "    </tr>\n",
       "  </thead>\n",
       "  <tbody>\n",
       "    <tr>\n",
       "      <th>0</th>\n",
       "      <td>116</td>\n",
       "      <td>gate_30</td>\n",
       "      <td>3</td>\n",
       "      <td>False</td>\n",
       "      <td>False</td>\n",
       "    </tr>\n",
       "    <tr>\n",
       "      <th>1</th>\n",
       "      <td>337</td>\n",
       "      <td>gate_30</td>\n",
       "      <td>38</td>\n",
       "      <td>True</td>\n",
       "      <td>False</td>\n",
       "    </tr>\n",
       "    <tr>\n",
       "      <th>2</th>\n",
       "      <td>377</td>\n",
       "      <td>gate_40</td>\n",
       "      <td>165</td>\n",
       "      <td>True</td>\n",
       "      <td>False</td>\n",
       "    </tr>\n",
       "    <tr>\n",
       "      <th>3</th>\n",
       "      <td>483</td>\n",
       "      <td>gate_40</td>\n",
       "      <td>1</td>\n",
       "      <td>False</td>\n",
       "      <td>False</td>\n",
       "    </tr>\n",
       "    <tr>\n",
       "      <th>4</th>\n",
       "      <td>488</td>\n",
       "      <td>gate_40</td>\n",
       "      <td>179</td>\n",
       "      <td>True</td>\n",
       "      <td>True</td>\n",
       "    </tr>\n",
       "  </tbody>\n",
       "</table>\n",
       "</div>"
      ],
      "text/plain": [
       "   userid  version  sum_gamerounds  retention_1  retention_7\n",
       "0     116  gate_30               3        False        False\n",
       "1     337  gate_30              38         True        False\n",
       "2     377  gate_40             165         True        False\n",
       "3     483  gate_40               1        False        False\n",
       "4     488  gate_40             179         True         True"
      ]
     },
     "execution_count": 3,
     "metadata": {},
     "output_type": "execute_result"
    }
   ],
   "source": [
    "data.head()"
   ]
  },
  {
   "cell_type": "code",
   "execution_count": 4,
   "id": "f7859619",
   "metadata": {},
   "outputs": [],
   "source": [
    "#datafilt = data[data.sum_gamerounds >= 40]\n",
    "datafilt = data"
   ]
  },
  {
   "cell_type": "code",
   "execution_count": 5,
   "id": "b77cd4e5",
   "metadata": {},
   "outputs": [],
   "source": [
    "control_1 = datafilt[datafilt.version=='gate_30']['retention_1']\n",
    "tratamiento_1 = datafilt[datafilt.version=='gate_40']['retention_1']\n",
    "\n",
    "control_2 = datafilt[datafilt.version=='gate_30']['retention_7']\n",
    "tratamiento_2 = datafilt[datafilt.version=='gate_40']['retention_7']"
   ]
  },
  {
   "cell_type": "code",
   "execution_count": 6,
   "id": "8128eeeb",
   "metadata": {},
   "outputs": [],
   "source": [
    "sample_ctrl = control_1.sample(n=10000)\n",
    "sample_trt = tratamiento_1.sample(n=10000)"
   ]
  },
  {
   "cell_type": "code",
   "execution_count": 7,
   "id": "a90daad4",
   "metadata": {},
   "outputs": [
    {
     "data": {
      "text/plain": [
       "'Tasas de retención al día Control: 1.8057060310581436 Test: 1.8014772113132769'"
      ]
     },
     "execution_count": 7,
     "metadata": {},
     "output_type": "execute_result"
    }
   ],
   "source": [
    "\n",
    "\n",
    "cr_contr = len(sample_ctrl)/sample_ctrl.value_counts()[0]\n",
    "cr_test = len(sample_trt)/sample_trt.value_counts()[0]\n",
    "\n",
    "f\"Tasas de retención al día Control: {cr_contr} Test: {cr_test}\""
   ]
  },
  {
   "cell_type": "code",
   "execution_count": 8,
   "id": "f2e6147a",
   "metadata": {},
   "outputs": [],
   "source": [
    "from bayes import *\n",
    "\n",
    "a_C, b_C = 1+sample_ctrl.value_counts()[0], 1+len(sample_ctrl)-sample_ctrl.value_counts()[0]\n",
    "\n",
    "a_T, b_T = 1+sample_trt.value_counts()[0], 1+len(sample_trt)-sample_trt.value_counts()[0]\n",
    "\n",
    "beta_control = beta(a_C, b_C)\n",
    "\n",
    "beta_test = beta(a_T, b_T)"
   ]
  },
  {
   "cell_type": "code",
   "execution_count": 9,
   "id": "38f422cb",
   "metadata": {},
   "outputs": [
    {
     "data": {
      "text/plain": [
       "(0.5537892421515697, 0.5550889822035593)"
      ]
     },
     "execution_count": 9,
     "metadata": {},
     "output_type": "execute_result"
    }
   ],
   "source": [
    "beta_control.mean(), beta_test.mean()\n"
   ]
  },
  {
   "cell_type": "code",
   "execution_count": 10,
   "id": "5b90c429",
   "metadata": {},
   "outputs": [
    {
     "data": {
      "image/png": "[encoded data removed]",
      "text/plain": [
       "<Figure size 640x480 with 1 Axes>"
      ]
     },
     "metadata": {},
     "output_type": "display_data"
    }
   ],
   "source": [
    "plot([beta_control, beta_test], ['Control', 'Test'], linf= 0.53 ,lsup=0.58)\n"
   ]
  },
  {
   "cell_type": "code",
   "execution_count": 11,
   "id": "a048a711",
   "metadata": {},
   "outputs": [
    {
     "data": {
      "text/plain": [
       "'Hay un 57.34% de probabilidad de que funcione el nuevo modelo con un incremento de 0.23%'"
      ]
     },
     "execution_count": 11,
     "metadata": {},
     "output_type": "execute_result"
    }
   ],
   "source": [
    "prob=calc_prob(beta_control, beta_test)\n",
    "salto=(beta_test.mean()-beta_control.mean())/beta_control.mean()\n",
    "'''Hay un {:2.2f}% de probabilidad de que funcione el nuevo modelo con un incremento de {:2.2f}%'''.format(100-(prob*100), salto*100)"
   ]
  },
  {
   "cell_type": "code",
   "execution_count": 12,
   "id": "cooked-magnet",
   "metadata": {},
   "outputs": [
    {
     "data": {
      "text/plain": [
       "'Tasas de retención al día Control: 1.2291052114060963 Test: 1.2162490878131842'"
      ]
     },
     "execution_count": 12,
     "metadata": {},
     "output_type": "execute_result"
    }
   ],
   "source": [
    "sample_ctrl = control_2.sample(n=10000)\n",
    "sample_trt = tratamiento_2.sample(n=10000)\n",
    "\n",
    "cr_contr = len(sample_ctrl)/sample_ctrl.value_counts()[0]\n",
    "cr_test = len(sample_trt)/sample_trt.value_counts()[0]\n",
    "\n",
    "f\"Tasas de retención al día Control: {cr_contr} Test: {cr_test}\""
   ]
  },
  {
   "cell_type": "code",
   "execution_count": 13,
   "id": "40896f16",
   "metadata": {},
   "outputs": [
    {
     "data": {
      "text/plain": [
       "(0.8135372925414917, 0.8221355728854229)"
      ]
     },
     "execution_count": 13,
     "metadata": {},
     "output_type": "execute_result"
    }
   ],
   "source": [
    "a_C, b_C = 1+sample_ctrl.value_counts()[0], 1+len(sample_ctrl)-sample_ctrl.value_counts()[0]\n",
    "\n",
    "a_T, b_T = 1+sample_trt.value_counts()[0], 1+len(sample_trt)-sample_trt.value_counts()[0]\n",
    "\n",
    "beta_control = beta(a_C, b_C)\n",
    "\n",
    "beta_test = beta(a_T, b_T)\n",
    "\n",
    "beta_control.mean(), beta_test.mean()"
   ]
  },
  {
   "cell_type": "code",
   "execution_count": 14,
   "id": "fe87516a",
   "metadata": {},
   "outputs": [
    {
     "data": {
      "image/png": "[encoded data removed]",
      "text/plain": [
       "<Figure size 640x480 with 1 Axes>"
      ]
     },
     "metadata": {},
     "output_type": "display_data"
    }
   ],
   "source": [
    "plot([beta_control, beta_test], ['Control', 'Test'], linf= 0.8 ,lsup=0.83)"
   ]
  },
  {
   "cell_type": "code",
   "execution_count": 15,
   "id": "553d5968",
   "metadata": {},
   "outputs": [
    {
     "data": {
      "text/plain": [
       "'Hay un 94.24% de probabilidad de que funcione el nuevo modelo con un incremento de return del 1.06%'"
      ]
     },
     "execution_count": 15,
     "metadata": {},
     "output_type": "execute_result"
    }
   ],
   "source": [
    "prob=calc_prob(beta_test, beta_control)\n",
    "salto=(beta_test.mean()-beta_control.mean())/beta_control.mean()\n",
    "'''Hay un {:2.2f}% de probabilidad de que funcione el nuevo modelo con un incremento de return del {:2.2f}%'''.format(prob*100, salto*100)"
   ]
  },
  {
   "cell_type": "markdown",
   "id": "6c62960f",
   "metadata": {},
   "source": []
  }
 ],
 "metadata": {
  "finalized": {
   "timestamp": 1642857010293,
   "trusted": true
  },
  "kernelspec": {
   "display_name": "Python 3 (ipykernel)",
   "language": "python",
   "name": "python3"
  },
  "language_info": {
   "codemirror_mode": {
    "name": "ipython",
    "version": 3
   },
   "file_extension": ".py",
   "mimetype": "text/x-python",
   "name": "python",
   "nbconvert_exporter": "python",
   "pygments_lexer": "ipython3",
   "version": "3.10.9"
  },
  "toc": {
   "base_numbering": 1,
   "nav_menu": {},
   "number_sections": true,
   "sideBar": true,
   "skip_h1_title": false,
   "title_cell": "Table of Contents",
   "title_sidebar": "Contents",
   "toc_cell": true,
   "toc_position": {},
   "toc_section_display": true,
   "toc_window_display": false
  },
  "varInspector": {
   "cols": {
    "lenName": 16,
    "lenType": 16,
    "lenVar": 40
   },
   "kernels_config": {
    "python": {
     "delete_cmd_postfix": "",
     "delete_cmd_prefix": "del ",
     "library": "var_list.py",
     "varRefreshCmd": "print(var_dic_list())"
    },
    "r": {
     "delete_cmd_postfix": ") ",
     "delete_cmd_prefix": "rm(",
     "library": "var_list.r",
     "varRefreshCmd": "cat(var_dic_list()) "
    }
   },
   "types_to_exclude": [
    "module",
    "function",
    "builtin_function_or_method",
    "instance",
    "_Feature"
   ],
   "window_display": false
  }
 },
 "nbformat": 4,
 "nbformat_minor": 5
}
